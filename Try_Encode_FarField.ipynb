{
 "cells": [
  {
   "cell_type": "code",
   "execution_count": 1,
   "id": "00c6ce10-76aa-4cdc-b51a-0393d8f8fde9",
   "metadata": {},
   "outputs": [],
   "source": [
    "from qiskit.circuit import Parameter\n",
    "from qiskit import QuantumCircuit\n",
    "from qiskit import QuantumRegister, ClassicalRegister\n",
    "from qiskit_aer import Aer\n",
    "from qiskit import transpile\n",
    "from qiskit.visualization import plot_histogram\n",
    "import numpy as np\n",
    "from math import pi\n",
    "import scipy\n",
    "from scipy import linalg"
   ]
  },
  {
   "cell_type": "code",
   "execution_count": 25,
   "id": "6455c24c-7f0f-432d-9466-4db2c76652dc",
   "metadata": {},
   "outputs": [
    {
     "data": {
      "text/plain": [
       "array([0.        +0.j        , 0.44476616-0.04672327j,\n",
       "       0.43745064-0.09293514j, 0.4253471 -0.13812981j,\n",
       "       0.40858803-0.18181261j])"
      ]
     },
     "execution_count": 25,
     "metadata": {},
     "output_type": "execute_result"
    }
   ],
   "source": [
    "ula(0.1, 5)"
   ]
  },
  {
   "cell_type": "code",
   "execution_count": 24,
   "id": "e6aab7e3-dea6-4910-9a9c-30d922294c64",
   "metadata": {},
   "outputs": [],
   "source": [
    "def ula(phi, N_ant, f = 30e9):\n",
    "    c = 3e8\n",
    "    lambda_w = c / f\n",
    "    d = lambda_w/2\n",
    "    k_wave_num = (2*np.pi)/lambda_w\n",
    "    phase = np.zeros(N_ant, dtype=complex)\n",
    "    #s = np.zeros(bits_reshape.shape[0], dtype=complex)\n",
    "    for n in range (1,N_ant):\n",
    "        result = np.exp(1j*k_wave_num*(n*d)*np.sin(phi))\n",
    "        phase[n] = result\n",
    "    \n",
    "    return (1/np.sqrt(N_ant))*phase        "
   ]
  },
  {
   "cell_type": "code",
   "execution_count": 29,
   "id": "19b7b9e0-9286-499b-b93f-b51f5f528277",
   "metadata": {},
   "outputs": [
    {
     "name": "stdout",
     "output_type": "stream",
     "text": [
      "0.005\n"
     ]
    }
   ],
   "source": [
    "lambda_w = 3e8 / 30e9\n",
    "d = lambda_w/2\n",
    "print(d)"
   ]
  },
  {
   "cell_type": "code",
   "execution_count": null,
   "id": "c14f6dd4-b7b0-4ff4-b172-73e0992f3df1",
   "metadata": {},
   "outputs": [],
   "source": [
    "def gen_channel(para):\n",
    "    k = 1 #num rician factor\n",
    "    alp_0 = np.sqrt(k/(k+1)) #complex gain for LOS path alpha_0\n",
    "\n",
    "    sigma_squared = 1/(k+1)\n",
    "    num_path = 10\n",
    "\n",
    "    \n",
    "    phase_shf = np.exp(1j*w_k*d*np.sin(theta))\n",
    "    st_vec_ULA = 1/np.sqrt(N)     \n",
    "    alp_l = "
   ]
  },
  {
   "cell_type": "code",
   "execution_count": 2,
   "id": "3795c3cd-b8a8-468b-89b9-a6e1833c7d52",
   "metadata": {},
   "outputs": [],
   "source": [
    "a=np.sqrt(4)\n",
    "tse"
   ]
  },
  {
   "cell_type": "code",
   "execution_count": 3,
   "id": "0fe264a1-36b5-43f5-8c9b-6e2f5a6f7a85",
   "metadata": {},
   "outputs": [
    {
     "data": {
      "text/plain": [
       "np.float64(2.0)"
      ]
     },
     "execution_count": 3,
     "metadata": {},
     "output_type": "execute_result"
    }
   ],
   "source": [
    "a"
   ]
  },
  {
   "cell_type": "code",
   "execution_count": 4,
   "id": "a22401ec-2303-46fd-8dd8-8b68dcbfba52",
   "metadata": {},
   "outputs": [
    {
     "ename": "NameError",
     "evalue": "name 'math' is not defined",
     "output_type": "error",
     "traceback": [
      "\u001b[0;31m---------------------------------------------------------------------------\u001b[0m",
      "\u001b[0;31mNameError\u001b[0m                                 Traceback (most recent call last)",
      "Cell \u001b[0;32mIn[4], line 1\u001b[0m\n\u001b[0;32m----> 1\u001b[0m a\u001b[38;5;241m=\u001b[39mmath\u001b[38;5;241m.\u001b[39msqrt(\u001b[38;5;241m4\u001b[39m)\n",
      "\u001b[0;31mNameError\u001b[0m: name 'math' is not defined"
     ]
    }
   ],
   "source": [
    "a=math.sqrt(4)"
   ]
  },
  {
   "cell_type": "code",
   "execution_count": null,
   "id": "a7e06f17-8c28-4954-9642-1c20ae61547d",
   "metadata": {},
   "outputs": [],
   "source": []
  }
 ],
 "metadata": {
  "kernelspec": {
   "display_name": "Python 3 (ipykernel)",
   "language": "python",
   "name": "python3"
  },
  "language_info": {
   "codemirror_mode": {
    "name": "ipython",
    "version": 3
   },
   "file_extension": ".py",
   "mimetype": "text/x-python",
   "name": "python",
   "nbconvert_exporter": "python",
   "pygments_lexer": "ipython3",
   "version": "3.12.4"
  }
 },
 "nbformat": 4,
 "nbformat_minor": 5
}
